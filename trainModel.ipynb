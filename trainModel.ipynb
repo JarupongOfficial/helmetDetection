{
 "cells": [
  {
   "cell_type": "code",
   "execution_count": 3,
   "source": [
    "# Learning on how to prepare PascalVOC to Yolov5 format\n",
    "# Import Required libaries\n",
    "\n",
    "import numpy as np # manage on linear algebra\n",
    "import pandas as pd # data processing, CSV file I/O\n",
    "\n",
    "from pathlib import Path #Represent file system path\n",
    "\n",
    "#Manage DOM(The Document Object Model) -> API XML Document\n",
    "from xml.dom.minidom import parse \n",
    "\n",
    "from shutil import copyfile #High-Level Operation on Files\n",
    "\n",
    "import os #Provide function to interact with OS\n",
    "\n",
    "#Test on os.walk function\n",
    "# for dirname, _, filenames in os.walk('/home/jarupong/Desktop/helmetDetection'):\n",
    "#    for filename in filenames:\n",
    "#        print(os.path.join(dirname, filename))"
   ],
   "outputs": [],
   "metadata": {}
  },
  {
   "cell_type": "code",
   "execution_count": 6,
   "source": [
    "#Prepare directory for Yolov5 format\n",
    "!mkdir -p Dataset/labels\n",
    "!mkdir -p Dataset/images"
   ],
   "outputs": [],
   "metadata": {}
  },
  {
   "cell_type": "code",
   "execution_count": 4,
   "source": [
    "#Config on class of object in model\n",
    "classes = ['helmet','head','person']"
   ],
   "outputs": [],
   "metadata": {}
  },
  {
   "cell_type": "code",
   "execution_count": 5,
   "source": [
    "#This function will transform PasvalVOC to Yolov5 format\n",
    "#by parse input and calculate to BB algorithm.\n",
    "def convertFromXML(parsed_img_size, box):\n",
    "    x1=int(box[0])\n",
    "    y1=int(box[1])\n",
    "    x2=int(box[2])\n",
    "    y2=int(box[3])\n",
    "\n",
    "    dw = np.float32(1. / int(parsed_img_size[0]) )\n",
    "    dh = np.float32(1. / int(parsed_img_size[1]) )\n",
    "\n",
    "    w = x2 - x1\n",
    "    h = y2 -y1\n",
    "    x = x1 + (w/2)\n",
    "    y = y1 + (h/2)\n",
    "\n",
    "    x = x * dw\n",
    "    w = w * dw\n",
    "    y = y * dh\n",
    "    h = h *dh\n",
    "\n",
    "    return [x, y, w, h]"
   ],
   "outputs": [],
   "metadata": {}
  },
  {
   "cell_type": "code",
   "execution_count": 6,
   "source": [
    "#This function will create new annotation file in Yolov5 format\n",
    "def save_txt_file(img_jpg_file_name, parsed_img_size, label_box):\n",
    "    save_file_name = 'result/working/Dataset/labels/' + img_jpg_file_name +'.txt'\n",
    "    print(save_file_name)\n",
    "\n",
    "    with open(save_file_name, 'a+') as file_path:\n",
    "        for box in label_box:\n",
    "\n",
    "            class_num = classes.index(box[0])\n",
    "\n",
    "            yolov5_box = convertFromXML(parsed_img_size, box[1:])\n",
    "\n",
    "            file_path.write(f\"{class_num} {yolov5_box[0]} {yolov5_box[1]} {yolov5_box[2]} {yolov5_box[3]}\\n\")\n",
    "\n",
    "        file_path.flush()\n",
    "        file_path.close()"
   ],
   "outputs": [],
   "metadata": {}
  },
  {
   "cell_type": "code",
   "execution_count": 7,
   "source": [
    "#This function will access and parsing on original PasvalVOC format \n",
    "def get_xml_data(file_path, img_xml_file):\n",
    "    img_path = file_path + '/' + img_xml_file + '.xml'\n",
    "    (print(img_path))\n",
    "\n",
    "    dom = parse(img_path)\n",
    "    root = dom.documentElement\n",
    "    img_name = root.getElementByTagName(\"filename\")[0].childNodes[0].data\n",
    "    img_size = root.getElementByTagName(\"size\")[0]\n",
    "    objects = root.getElementByTagName(\"object\")\n",
    "    img_w = img_size.getElementByTagName(\"width\").childNodes[0].data\n",
    "    img_h = img_size.getElementsByTagName(\"height\")[0].childNodes[0].data\n",
    "    img_c = img_size.getElementsByTagName(\"depth\")[0].childNodes[0].data\n",
    "\n",
    "    label_box = []\n",
    "    for box in objects:\n",
    "        class_name = box.getElementsByTagName(\"name\")[0].childNodes[0].data\n",
    "        x1 = box.getElementsByTagName(\"xmin\")[0].childNodes[0].data\n",
    "        y1 = box.getElementsByTagName(\"ymin\")[0].childNodes[0].data\n",
    "        x2 = box.getElementsByTagName(\"xmax\")[0].childNodes[0].data\n",
    "        y2 = box.getElementsByTagName(\"ymax\")[0].childNodes[0].data\n",
    "\n",
    "        img_jpg_file_name = img_xml_file + '.jpg'\n",
    "        label_box.append([class_name, x1, y1, x2, y2])\n",
    "\n",
    "    save_txt_file(img_xml_file, [img_w, img_h], label_box)"
   ],
   "outputs": [],
   "metadata": {}
  },
  {
   "cell_type": "code",
   "execution_count": 11,
   "source": [
    "!ls"
   ],
   "outputs": [
    {
     "output_type": "stream",
     "name": "stdout",
     "text": [
      "Dataset  PascalVOC  README.md  testPython.ipynb  trainModel.ipynb\n"
     ]
    }
   ],
   "metadata": {}
  },
  {
   "cell_type": "code",
   "execution_count": null,
   "source": [],
   "outputs": [],
   "metadata": {}
  }
 ],
 "metadata": {
  "orig_nbformat": 4,
  "language_info": {
   "name": "python",
   "version": "3.8.8",
   "mimetype": "text/x-python",
   "codemirror_mode": {
    "name": "ipython",
    "version": 3
   },
   "pygments_lexer": "ipython3",
   "nbconvert_exporter": "python",
   "file_extension": ".py"
  },
  "kernelspec": {
   "name": "python3",
   "display_name": "Python 3.8.8 64-bit ('base': conda)"
  },
  "interpreter": {
   "hash": "3f9caeb8fbb72fbf6645b7b608a4cb830d050e6424f99c3da6d102b70ff4d2e2"
  }
 },
 "nbformat": 4,
 "nbformat_minor": 2
}